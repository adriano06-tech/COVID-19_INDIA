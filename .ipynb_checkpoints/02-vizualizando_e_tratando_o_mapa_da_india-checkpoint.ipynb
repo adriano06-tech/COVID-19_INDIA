{
 "cells": [
  {
   "cell_type": "markdown",
   "id": "liquid-checkout",
   "metadata": {},
   "source": [
    "# Vizualizando e tratando o mapa da Índia"
   ]
  },
  {
   "cell_type": "markdown",
   "id": "norman-chicago",
   "metadata": {},
   "source": [
    "## Importando as bibliotecas"
   ]
  },
  {
   "cell_type": "code",
   "execution_count": 42,
   "id": "choice-patrick",
   "metadata": {},
   "outputs": [
    {
     "name": "stdout",
     "output_type": "stream",
     "text": [
      "Todas as bibliotecas foram importadas com sucesso\n"
     ]
    }
   ],
   "source": [
    "import os\n",
    "import pandas as pd\n",
    "import geopandas as gpd\n",
    "import numpy as np\n",
    "import matplotlib.pyplot as plt\n",
    "%matplotlib inline\n",
    "import seaborn as sns\n",
    "sns.set(rc={'figure.figsize': (12, 6)})\n",
    "print('Todas as bibliotecas foram importadas com sucesso')"
   ]
  },
  {
   "cell_type": "markdown",
   "id": "numerical-insurance",
   "metadata": {},
   "source": [
    "## Preparando o ambiente"
   ]
  },
  {
   "cell_type": "code",
   "execution_count": 43,
   "id": "accessible-induction",
   "metadata": {},
   "outputs": [],
   "source": [
    "PRINCIPAL_PATH = './data/'\n",
    "SEED = 101\n",
    "np.random.seed(SEED)"
   ]
  },
  {
   "cell_type": "markdown",
   "id": "naughty-johnston",
   "metadata": {},
   "source": [
    "## Importando a base de dados"
   ]
  },
  {
   "cell_type": "code",
   "execution_count": 44,
   "id": "warming-factor",
   "metadata": {},
   "outputs": [
    {
     "data": {
      "text/html": [
       "<div>\n",
       "<style scoped>\n",
       "    .dataframe tbody tr th:only-of-type {\n",
       "        vertical-align: middle;\n",
       "    }\n",
       "\n",
       "    .dataframe tbody tr th {\n",
       "        vertical-align: top;\n",
       "    }\n",
       "\n",
       "    .dataframe thead th {\n",
       "        text-align: right;\n",
       "    }\n",
       "</style>\n",
       "<table border=\"1\" class=\"dataframe\">\n",
       "  <thead>\n",
       "    <tr style=\"text-align: right;\">\n",
       "      <th></th>\n",
       "      <th>Date</th>\n",
       "      <th>Territory</th>\n",
       "      <th>Cured</th>\n",
       "      <th>Deaths</th>\n",
       "      <th>Confirmed</th>\n",
       "    </tr>\n",
       "  </thead>\n",
       "  <tbody>\n",
       "    <tr>\n",
       "      <th>0</th>\n",
       "      <td>2020-03-14</td>\n",
       "      <td>Delhi</td>\n",
       "      <td>1</td>\n",
       "      <td>1</td>\n",
       "      <td>1</td>\n",
       "    </tr>\n",
       "    <tr>\n",
       "      <th>1</th>\n",
       "      <td>2020-03-25</td>\n",
       "      <td>Maharashtra</td>\n",
       "      <td>1</td>\n",
       "      <td>1</td>\n",
       "      <td>39</td>\n",
       "    </tr>\n",
       "    <tr>\n",
       "      <th>2</th>\n",
       "      <td>2020-03-27</td>\n",
       "      <td>Maharashtra</td>\n",
       "      <td>14</td>\n",
       "      <td>1</td>\n",
       "      <td>6</td>\n",
       "    </tr>\n",
       "    <tr>\n",
       "      <th>3</th>\n",
       "      <td>2020-03-28</td>\n",
       "      <td>Maharashtra</td>\n",
       "      <td>10</td>\n",
       "      <td>1</td>\n",
       "      <td>50</td>\n",
       "    </tr>\n",
       "    <tr>\n",
       "      <th>4</th>\n",
       "      <td>2020-03-29</td>\n",
       "      <td>Kerala</td>\n",
       "      <td>4</td>\n",
       "      <td>1</td>\n",
       "      <td>6</td>\n",
       "    </tr>\n",
       "  </tbody>\n",
       "</table>\n",
       "</div>"
      ],
      "text/plain": [
       "        Date    Territory  Cured  Deaths  Confirmed\n",
       "0 2020-03-14        Delhi      1       1          1\n",
       "1 2020-03-25  Maharashtra      1       1         39\n",
       "2 2020-03-27  Maharashtra     14       1          6\n",
       "3 2020-03-28  Maharashtra     10       1         50\n",
       "4 2020-03-29       Kerala      4       1          6"
      ]
     },
     "execution_count": 44,
     "metadata": {},
     "output_type": "execute_result"
    }
   ],
   "source": [
    "days = pd.read_csv(PRINCIPAL_PATH + 'covid_india/covid_india_by_days.csv')\n",
    "days['Date'] = pd.to_datetime(days['Date'])\n",
    "days.head()"
   ]
  },
  {
   "cell_type": "code",
   "execution_count": 45,
   "id": "informative-presentation",
   "metadata": {},
   "outputs": [
    {
     "data": {
      "text/html": [
       "<div>\n",
       "<style scoped>\n",
       "    .dataframe tbody tr th:only-of-type {\n",
       "        vertical-align: middle;\n",
       "    }\n",
       "\n",
       "    .dataframe tbody tr th {\n",
       "        vertical-align: top;\n",
       "    }\n",
       "\n",
       "    .dataframe thead th {\n",
       "        text-align: right;\n",
       "    }\n",
       "</style>\n",
       "<table border=\"1\" class=\"dataframe\">\n",
       "  <thead>\n",
       "    <tr style=\"text-align: right;\">\n",
       "      <th></th>\n",
       "      <th>gid</th>\n",
       "      <th>st_nm</th>\n",
       "      <th>tid</th>\n",
       "      <th>territory_</th>\n",
       "      <th>geometry</th>\n",
       "    </tr>\n",
       "  </thead>\n",
       "  <tbody>\n",
       "    <tr>\n",
       "      <th>0</th>\n",
       "      <td>1</td>\n",
       "      <td>Andaman &amp; Nicobar Island</td>\n",
       "      <td>None</td>\n",
       "      <td>None</td>\n",
       "      <td>MULTIPOLYGON (((93.71976 7.20707, 93.71909 7.2...</td>\n",
       "    </tr>\n",
       "    <tr>\n",
       "      <th>1</th>\n",
       "      <td>2</td>\n",
       "      <td>Arunanchal Pradesh</td>\n",
       "      <td>None</td>\n",
       "      <td>None</td>\n",
       "      <td>POLYGON ((96.16261 29.38078, 96.16860 29.37432...</td>\n",
       "    </tr>\n",
       "    <tr>\n",
       "      <th>2</th>\n",
       "      <td>3</td>\n",
       "      <td>Assam</td>\n",
       "      <td>None</td>\n",
       "      <td>None</td>\n",
       "      <td>MULTIPOLYGON (((89.74323 26.30362, 89.74290 26...</td>\n",
       "    </tr>\n",
       "    <tr>\n",
       "      <th>3</th>\n",
       "      <td>4</td>\n",
       "      <td>Bihar</td>\n",
       "      <td>None</td>\n",
       "      <td>None</td>\n",
       "      <td>MULTIPOLYGON (((84.50720 24.26323, 84.50355 24...</td>\n",
       "    </tr>\n",
       "    <tr>\n",
       "      <th>4</th>\n",
       "      <td>5</td>\n",
       "      <td>Chandigarh</td>\n",
       "      <td>None</td>\n",
       "      <td>None</td>\n",
       "      <td>POLYGON ((76.84147 30.75996, 76.83599 30.73623...</td>\n",
       "    </tr>\n",
       "  </tbody>\n",
       "</table>\n",
       "</div>"
      ],
      "text/plain": [
       "   gid                     st_nm   tid territory_  \\\n",
       "0    1  Andaman & Nicobar Island  None       None   \n",
       "1    2        Arunanchal Pradesh  None       None   \n",
       "2    3                     Assam  None       None   \n",
       "3    4                     Bihar  None       None   \n",
       "4    5                Chandigarh  None       None   \n",
       "\n",
       "                                            geometry  \n",
       "0  MULTIPOLYGON (((93.71976 7.20707, 93.71909 7.2...  \n",
       "1  POLYGON ((96.16261 29.38078, 96.16860 29.37432...  \n",
       "2  MULTIPOLYGON (((89.74323 26.30362, 89.74290 26...  \n",
       "3  MULTIPOLYGON (((84.50720 24.26323, 84.50355 24...  \n",
       "4  POLYGON ((76.84147 30.75996, 76.83599 30.73623...  "
      ]
     },
     "execution_count": 45,
     "metadata": {},
     "output_type": "execute_result"
    }
   ],
   "source": [
    "india_map = gpd.read_file(PRINCIPAL_PATH + 'raw_map_india/india_administrative_state_boundary.shp')\n",
    "india_map.head()"
   ]
  },
  {
   "cell_type": "markdown",
   "id": "altered-birmingham",
   "metadata": {},
   "source": [
    "## Tratando o mapa da Índia"
   ]
  },
  {
   "cell_type": "code",
   "execution_count": 46,
   "id": "focal-moscow",
   "metadata": {},
   "outputs": [
    {
     "data": {
      "text/plain": [
       "0    None\n",
       "Name: tid, dtype: object"
      ]
     },
     "execution_count": 46,
     "metadata": {},
     "output_type": "execute_result"
    }
   ],
   "source": [
    "india_map['tid'].drop_duplicates()"
   ]
  },
  {
   "cell_type": "code",
   "execution_count": 47,
   "id": "multiple-ceremony",
   "metadata": {},
   "outputs": [
    {
     "data": {
      "text/plain": [
       "0    None\n",
       "Name: territory_, dtype: object"
      ]
     },
     "execution_count": 47,
     "metadata": {},
     "output_type": "execute_result"
    }
   ],
   "source": [
    "india_map['territory_'].drop_duplicates()"
   ]
  },
  {
   "cell_type": "code",
   "execution_count": 48,
   "id": "looking-bread",
   "metadata": {},
   "outputs": [
    {
     "data": {
      "text/html": [
       "<div>\n",
       "<style scoped>\n",
       "    .dataframe tbody tr th:only-of-type {\n",
       "        vertical-align: middle;\n",
       "    }\n",
       "\n",
       "    .dataframe tbody tr th {\n",
       "        vertical-align: top;\n",
       "    }\n",
       "\n",
       "    .dataframe thead th {\n",
       "        text-align: right;\n",
       "    }\n",
       "</style>\n",
       "<table border=\"1\" class=\"dataframe\">\n",
       "  <thead>\n",
       "    <tr style=\"text-align: right;\">\n",
       "      <th></th>\n",
       "      <th>st_nm</th>\n",
       "      <th>geometry</th>\n",
       "    </tr>\n",
       "  </thead>\n",
       "  <tbody>\n",
       "    <tr>\n",
       "      <th>0</th>\n",
       "      <td>Andaman &amp; Nicobar Island</td>\n",
       "      <td>MULTIPOLYGON (((93.71976 7.20707, 93.71909 7.2...</td>\n",
       "    </tr>\n",
       "    <tr>\n",
       "      <th>1</th>\n",
       "      <td>Arunanchal Pradesh</td>\n",
       "      <td>POLYGON ((96.16261 29.38078, 96.16860 29.37432...</td>\n",
       "    </tr>\n",
       "    <tr>\n",
       "      <th>2</th>\n",
       "      <td>Assam</td>\n",
       "      <td>MULTIPOLYGON (((89.74323 26.30362, 89.74290 26...</td>\n",
       "    </tr>\n",
       "    <tr>\n",
       "      <th>3</th>\n",
       "      <td>Bihar</td>\n",
       "      <td>MULTIPOLYGON (((84.50720 24.26323, 84.50355 24...</td>\n",
       "    </tr>\n",
       "    <tr>\n",
       "      <th>4</th>\n",
       "      <td>Chandigarh</td>\n",
       "      <td>POLYGON ((76.84147 30.75996, 76.83599 30.73623...</td>\n",
       "    </tr>\n",
       "  </tbody>\n",
       "</table>\n",
       "</div>"
      ],
      "text/plain": [
       "                      st_nm                                           geometry\n",
       "0  Andaman & Nicobar Island  MULTIPOLYGON (((93.71976 7.20707, 93.71909 7.2...\n",
       "1        Arunanchal Pradesh  POLYGON ((96.16261 29.38078, 96.16860 29.37432...\n",
       "2                     Assam  MULTIPOLYGON (((89.74323 26.30362, 89.74290 26...\n",
       "3                     Bihar  MULTIPOLYGON (((84.50720 24.26323, 84.50355 24...\n",
       "4                Chandigarh  POLYGON ((76.84147 30.75996, 76.83599 30.73623..."
      ]
     },
     "execution_count": 48,
     "metadata": {},
     "output_type": "execute_result"
    }
   ],
   "source": [
    "india_map.drop(columns = ['tid', 'territory_', 'gid'], inplace = True)\n",
    "india_map.head()"
   ]
  },
  {
   "cell_type": "code",
   "execution_count": 49,
   "id": "alpine-innocent",
   "metadata": {},
   "outputs": [
    {
     "data": {
      "text/html": [
       "<div>\n",
       "<style scoped>\n",
       "    .dataframe tbody tr th:only-of-type {\n",
       "        vertical-align: middle;\n",
       "    }\n",
       "\n",
       "    .dataframe tbody tr th {\n",
       "        vertical-align: top;\n",
       "    }\n",
       "\n",
       "    .dataframe thead th {\n",
       "        text-align: right;\n",
       "    }\n",
       "</style>\n",
       "<table border=\"1\" class=\"dataframe\">\n",
       "  <thead>\n",
       "    <tr style=\"text-align: right;\">\n",
       "      <th></th>\n",
       "      <th>Territory</th>\n",
       "      <th>geometry</th>\n",
       "    </tr>\n",
       "  </thead>\n",
       "  <tbody>\n",
       "    <tr>\n",
       "      <th>0</th>\n",
       "      <td>Andaman &amp; Nicobar Island</td>\n",
       "      <td>MULTIPOLYGON (((93.71976 7.20707, 93.71909 7.2...</td>\n",
       "    </tr>\n",
       "    <tr>\n",
       "      <th>1</th>\n",
       "      <td>Arunanchal Pradesh</td>\n",
       "      <td>POLYGON ((96.16261 29.38078, 96.16860 29.37432...</td>\n",
       "    </tr>\n",
       "    <tr>\n",
       "      <th>2</th>\n",
       "      <td>Assam</td>\n",
       "      <td>MULTIPOLYGON (((89.74323 26.30362, 89.74290 26...</td>\n",
       "    </tr>\n",
       "    <tr>\n",
       "      <th>3</th>\n",
       "      <td>Bihar</td>\n",
       "      <td>MULTIPOLYGON (((84.50720 24.26323, 84.50355 24...</td>\n",
       "    </tr>\n",
       "    <tr>\n",
       "      <th>4</th>\n",
       "      <td>Chandigarh</td>\n",
       "      <td>POLYGON ((76.84147 30.75996, 76.83599 30.73623...</td>\n",
       "    </tr>\n",
       "  </tbody>\n",
       "</table>\n",
       "</div>"
      ],
      "text/plain": [
       "                  Territory                                           geometry\n",
       "0  Andaman & Nicobar Island  MULTIPOLYGON (((93.71976 7.20707, 93.71909 7.2...\n",
       "1        Arunanchal Pradesh  POLYGON ((96.16261 29.38078, 96.16860 29.37432...\n",
       "2                     Assam  MULTIPOLYGON (((89.74323 26.30362, 89.74290 26...\n",
       "3                     Bihar  MULTIPOLYGON (((84.50720 24.26323, 84.50355 24...\n",
       "4                Chandigarh  POLYGON ((76.84147 30.75996, 76.83599 30.73623..."
      ]
     },
     "execution_count": 49,
     "metadata": {},
     "output_type": "execute_result"
    }
   ],
   "source": [
    "india_map.rename(columns = {'st_nm': 'Territory'}, inplace = True)\n",
    "india_map.head()"
   ]
  },
  {
   "cell_type": "code",
   "execution_count": 50,
   "id": "figured-board",
   "metadata": {},
   "outputs": [
    {
     "data": {
      "image/png": "[encoded data removed]",
      "text/plain": [
       "<Figure size 864x432 with 1 Axes>"
      ]
     },
     "metadata": {},
     "output_type": "display_data"
    }
   ],
   "source": [
    "ax = india_map.plot()\n",
    "ax.set_title('Mapa da Índia com fronteiras', fontsize = 18, loc = 'center')\n",
    "ax.set_xlabel('Latitude', fontsize = 14)\n",
    "ax.set_ylabel('Longitude', fontsize = 14)\n",
    "ax = ax"
   ]
  },
  {
   "cell_type": "markdown",
   "id": "strange-diploma",
   "metadata": {},
   "source": [
    "## Salvando as alterações feitas no mapa"
   ]
  },
  {
   "cell_type": "code",
   "execution_count": 51,
   "id": "alike-addition",
   "metadata": {},
   "outputs": [
    {
     "name": "stdout",
     "output_type": "stream",
     "text": [
      "Salvo com sucesso!\n"
     ]
    }
   ],
   "source": [
    "india_map.to_file(PRINCIPAL_PATH + 'new_map_india/india_administrative_state_boundary.shp')\n",
    "print('Salvo com sucesso!')"
   ]
  },
  {
   "cell_type": "code",
   "execution_count": 52,
   "id": "sonic-compromise",
   "metadata": {},
   "outputs": [
    {
     "data": {
      "text/html": [
       "<div>\n",
       "<style scoped>\n",
       "    .dataframe tbody tr th:only-of-type {\n",
       "        vertical-align: middle;\n",
       "    }\n",
       "\n",
       "    .dataframe tbody tr th {\n",
       "        vertical-align: top;\n",
       "    }\n",
       "\n",
       "    .dataframe thead th {\n",
       "        text-align: right;\n",
       "    }\n",
       "</style>\n",
       "<table border=\"1\" class=\"dataframe\">\n",
       "  <thead>\n",
       "    <tr style=\"text-align: right;\">\n",
       "      <th></th>\n",
       "      <th>Territory</th>\n",
       "      <th>geometry</th>\n",
       "    </tr>\n",
       "  </thead>\n",
       "  <tbody>\n",
       "    <tr>\n",
       "      <th>0</th>\n",
       "      <td>Andaman &amp; Nicobar Island</td>\n",
       "      <td>MULTIPOLYGON (((93.71976 7.20707, 93.71909 7.2...</td>\n",
       "    </tr>\n",
       "    <tr>\n",
       "      <th>1</th>\n",
       "      <td>Arunanchal Pradesh</td>\n",
       "      <td>POLYGON ((96.16261 29.38078, 96.16860 29.37432...</td>\n",
       "    </tr>\n",
       "    <tr>\n",
       "      <th>2</th>\n",
       "      <td>Assam</td>\n",
       "      <td>MULTIPOLYGON (((89.74323 26.30362, 89.74290 26...</td>\n",
       "    </tr>\n",
       "    <tr>\n",
       "      <th>3</th>\n",
       "      <td>Bihar</td>\n",
       "      <td>MULTIPOLYGON (((84.50720 24.26323, 84.50355 24...</td>\n",
       "    </tr>\n",
       "    <tr>\n",
       "      <th>4</th>\n",
       "      <td>Chandigarh</td>\n",
       "      <td>POLYGON ((76.84147 30.75996, 76.83599 30.73623...</td>\n",
       "    </tr>\n",
       "  </tbody>\n",
       "</table>\n",
       "</div>"
      ],
      "text/plain": [
       "                  Territory                                           geometry\n",
       "0  Andaman & Nicobar Island  MULTIPOLYGON (((93.71976 7.20707, 93.71909 7.2...\n",
       "1        Arunanchal Pradesh  POLYGON ((96.16261 29.38078, 96.16860 29.37432...\n",
       "2                     Assam  MULTIPOLYGON (((89.74323 26.30362, 89.74290 26...\n",
       "3                     Bihar  MULTIPOLYGON (((84.50720 24.26323, 84.50355 24...\n",
       "4                Chandigarh  POLYGON ((76.84147 30.75996, 76.83599 30.73623..."
      ]
     },
     "execution_count": 52,
     "metadata": {},
     "output_type": "execute_result"
    }
   ],
   "source": [
    "india_map = gpd.read_file(PRINCIPAL_PATH + 'new_map_india/india_administrative_state_boundary.shp')\n",
    "india_map.head()"
   ]
  },
  {
   "cell_type": "markdown",
   "id": "dietary-estonia",
   "metadata": {},
   "source": [
    "## Juntando os dados geométricos com os dados da COVID-19"
   ]
  },
  {
   "cell_type": "markdown",
   "id": "single-mechanism",
   "metadata": {},
   "source": [
    "Primeiro de tudo precisamos vizualizar as diferenças que aparecem entre os nomes dos territórios em cada base de dados"
   ]
  },
  {
   "cell_type": "code",
   "execution_count": 53,
   "id": "blind-genre",
   "metadata": {},
   "outputs": [
    {
     "data": {
      "text/plain": [
       "37"
      ]
     },
     "execution_count": 53,
     "metadata": {},
     "output_type": "execute_result"
    }
   ],
   "source": [
    "dataset_territories = days['Territory'].drop_duplicates()\n",
    "dataset_territories.size"
   ]
  },
  {
   "cell_type": "code",
   "execution_count": 54,
   "id": "buried-fighter",
   "metadata": {},
   "outputs": [
    {
     "data": {
      "text/plain": [
       "36"
      ]
     },
     "execution_count": 54,
     "metadata": {},
     "output_type": "execute_result"
    }
   ],
   "source": [
    "map_territories = india_map['Territory'].drop_duplicates()\n",
    "map_territories.size"
   ]
  },
  {
   "cell_type": "code",
   "execution_count": 55,
   "id": "czech-dictionary",
   "metadata": {},
   "outputs": [
    {
     "data": {
      "text/plain": [
       "['Delhi',\n",
       " 'Telengana',\n",
       " 'Jammu and Kashmir',\n",
       " 'Ladakh',\n",
       " 'Arunachal Pradesh',\n",
       " 'Dadra and Nagar Haveli and Daman and Diu',\n",
       " 'Andaman and Nicobar Islands']"
      ]
     },
     "execution_count": 55,
     "metadata": {},
     "output_type": "execute_result"
    }
   ],
   "source": [
    "territories_without_correspondent = []\n",
    "\n",
    "for territory in dataset_territories:\n",
    "    if territory not in list(map_territories):\n",
    "        territories_without_correspondent.append(territory)\n",
    "    \n",
    "territories_without_correspondent"
   ]
  },
  {
   "cell_type": "code",
   "execution_count": 56,
   "id": "bound-following",
   "metadata": {},
   "outputs": [
    {
     "data": {
      "text/html": [
       "<div>\n",
       "<style scoped>\n",
       "    .dataframe tbody tr th:only-of-type {\n",
       "        vertical-align: middle;\n",
       "    }\n",
       "\n",
       "    .dataframe tbody tr th {\n",
       "        vertical-align: top;\n",
       "    }\n",
       "\n",
       "    .dataframe thead th {\n",
       "        text-align: right;\n",
       "    }\n",
       "</style>\n",
       "<table border=\"1\" class=\"dataframe\">\n",
       "  <thead>\n",
       "    <tr style=\"text-align: right;\">\n",
       "      <th></th>\n",
       "      <th>Correspondent</th>\n",
       "    </tr>\n",
       "    <tr>\n",
       "      <th>Territory</th>\n",
       "      <th></th>\n",
       "    </tr>\n",
       "  </thead>\n",
       "  <tbody>\n",
       "    <tr>\n",
       "      <th>Delhi</th>\n",
       "      <td>None</td>\n",
       "    </tr>\n",
       "    <tr>\n",
       "      <th>Telengana</th>\n",
       "      <td>None</td>\n",
       "    </tr>\n",
       "    <tr>\n",
       "      <th>Jammu and Kashmir</th>\n",
       "      <td>None</td>\n",
       "    </tr>\n",
       "    <tr>\n",
       "      <th>Ladakh</th>\n",
       "      <td>None</td>\n",
       "    </tr>\n",
       "    <tr>\n",
       "      <th>Arunachal Pradesh</th>\n",
       "      <td>None</td>\n",
       "    </tr>\n",
       "    <tr>\n",
       "      <th>Dadra and Nagar Haveli and Daman and Diu</th>\n",
       "      <td>None</td>\n",
       "    </tr>\n",
       "    <tr>\n",
       "      <th>Andaman and Nicobar Islands</th>\n",
       "      <td>None</td>\n",
       "    </tr>\n",
       "  </tbody>\n",
       "</table>\n",
       "</div>"
      ],
      "text/plain": [
       "                                         Correspondent\n",
       "Territory                                             \n",
       "Delhi                                             None\n",
       "Telengana                                         None\n",
       "Jammu and Kashmir                                 None\n",
       "Ladakh                                            None\n",
       "Arunachal Pradesh                                 None\n",
       "Dadra and Nagar Haveli and Daman and Diu          None\n",
       "Andaman and Nicobar Islands                       None"
      ]
     },
     "execution_count": 56,
     "metadata": {},
     "output_type": "execute_result"
    }
   ],
   "source": [
    "territories_without_correspondent_df = pd.DataFrame({\n",
    "    'Territory': territories_without_correspondent,\n",
    "    'Correspondent': [None for _ in range(len(territories_without_correspondent))]\n",
    "})\n",
    "\n",
    "\n",
    "territories_without_correspondent_df.index = territories_without_correspondent_df['Territory']\n",
    "territories_without_correspondent_df.drop(columns = ['Territory'], inplace = True)\n",
    "territories_without_correspondent_df"
   ]
  },
  {
   "cell_type": "code",
   "execution_count": 57,
   "id": "radio-uniform",
   "metadata": {},
   "outputs": [
    {
     "data": {
      "text/html": [
       "<div>\n",
       "<style scoped>\n",
       "    .dataframe tbody tr th:only-of-type {\n",
       "        vertical-align: middle;\n",
       "    }\n",
       "\n",
       "    .dataframe tbody tr th {\n",
       "        vertical-align: top;\n",
       "    }\n",
       "\n",
       "    .dataframe thead th {\n",
       "        text-align: right;\n",
       "    }\n",
       "</style>\n",
       "<table border=\"1\" class=\"dataframe\">\n",
       "  <thead>\n",
       "    <tr style=\"text-align: right;\">\n",
       "      <th></th>\n",
       "      <th>PossibleCorrespondents</th>\n",
       "    </tr>\n",
       "  </thead>\n",
       "  <tbody>\n",
       "    <tr>\n",
       "      <th>0</th>\n",
       "      <td>Andaman &amp; Nicobar Island</td>\n",
       "    </tr>\n",
       "    <tr>\n",
       "      <th>1</th>\n",
       "      <td>Andhra Pradesh</td>\n",
       "    </tr>\n",
       "    <tr>\n",
       "      <th>2</th>\n",
       "      <td>Arunanchal Pradesh</td>\n",
       "    </tr>\n",
       "    <tr>\n",
       "      <th>3</th>\n",
       "      <td>Assam</td>\n",
       "    </tr>\n",
       "    <tr>\n",
       "      <th>4</th>\n",
       "      <td>Bihar</td>\n",
       "    </tr>\n",
       "    <tr>\n",
       "      <th>5</th>\n",
       "      <td>Chandigarh</td>\n",
       "    </tr>\n",
       "    <tr>\n",
       "      <th>6</th>\n",
       "      <td>Chhattisgarh</td>\n",
       "    </tr>\n",
       "    <tr>\n",
       "      <th>7</th>\n",
       "      <td>Dadara &amp; Nagar Havelli</td>\n",
       "    </tr>\n",
       "    <tr>\n",
       "      <th>8</th>\n",
       "      <td>Daman &amp; Diu</td>\n",
       "    </tr>\n",
       "    <tr>\n",
       "      <th>9</th>\n",
       "      <td>Goa</td>\n",
       "    </tr>\n",
       "    <tr>\n",
       "      <th>10</th>\n",
       "      <td>Gujarat</td>\n",
       "    </tr>\n",
       "    <tr>\n",
       "      <th>11</th>\n",
       "      <td>Haryana</td>\n",
       "    </tr>\n",
       "    <tr>\n",
       "      <th>12</th>\n",
       "      <td>Himachal Pradesh</td>\n",
       "    </tr>\n",
       "    <tr>\n",
       "      <th>13</th>\n",
       "      <td>Jammu &amp; Kashmir</td>\n",
       "    </tr>\n",
       "    <tr>\n",
       "      <th>14</th>\n",
       "      <td>Jharkhand</td>\n",
       "    </tr>\n",
       "    <tr>\n",
       "      <th>15</th>\n",
       "      <td>Karnataka</td>\n",
       "    </tr>\n",
       "    <tr>\n",
       "      <th>16</th>\n",
       "      <td>Kerala</td>\n",
       "    </tr>\n",
       "    <tr>\n",
       "      <th>17</th>\n",
       "      <td>Lakshadweep</td>\n",
       "    </tr>\n",
       "    <tr>\n",
       "      <th>18</th>\n",
       "      <td>Madhya Pradesh</td>\n",
       "    </tr>\n",
       "    <tr>\n",
       "      <th>19</th>\n",
       "      <td>Maharashtra</td>\n",
       "    </tr>\n",
       "    <tr>\n",
       "      <th>20</th>\n",
       "      <td>Manipur</td>\n",
       "    </tr>\n",
       "    <tr>\n",
       "      <th>21</th>\n",
       "      <td>Meghalaya</td>\n",
       "    </tr>\n",
       "    <tr>\n",
       "      <th>22</th>\n",
       "      <td>Mizoram</td>\n",
       "    </tr>\n",
       "    <tr>\n",
       "      <th>23</th>\n",
       "      <td>NCT of Delhi</td>\n",
       "    </tr>\n",
       "    <tr>\n",
       "      <th>24</th>\n",
       "      <td>Nagaland</td>\n",
       "    </tr>\n",
       "    <tr>\n",
       "      <th>25</th>\n",
       "      <td>Odisha</td>\n",
       "    </tr>\n",
       "    <tr>\n",
       "      <th>26</th>\n",
       "      <td>Puducherry</td>\n",
       "    </tr>\n",
       "    <tr>\n",
       "      <th>27</th>\n",
       "      <td>Punjab</td>\n",
       "    </tr>\n",
       "    <tr>\n",
       "      <th>28</th>\n",
       "      <td>Rajasthan</td>\n",
       "    </tr>\n",
       "    <tr>\n",
       "      <th>29</th>\n",
       "      <td>Sikkim</td>\n",
       "    </tr>\n",
       "    <tr>\n",
       "      <th>30</th>\n",
       "      <td>Tamil Nadu</td>\n",
       "    </tr>\n",
       "    <tr>\n",
       "      <th>31</th>\n",
       "      <td>Telangana</td>\n",
       "    </tr>\n",
       "    <tr>\n",
       "      <th>32</th>\n",
       "      <td>Tripura</td>\n",
       "    </tr>\n",
       "    <tr>\n",
       "      <th>33</th>\n",
       "      <td>Uttar Pradesh</td>\n",
       "    </tr>\n",
       "    <tr>\n",
       "      <th>34</th>\n",
       "      <td>Uttarakhand</td>\n",
       "    </tr>\n",
       "    <tr>\n",
       "      <th>35</th>\n",
       "      <td>West Bengal</td>\n",
       "    </tr>\n",
       "  </tbody>\n",
       "</table>\n",
       "</div>"
      ],
      "text/plain": [
       "      PossibleCorrespondents\n",
       "0   Andaman & Nicobar Island\n",
       "1             Andhra Pradesh\n",
       "2         Arunanchal Pradesh\n",
       "3                      Assam\n",
       "4                      Bihar\n",
       "5                 Chandigarh\n",
       "6               Chhattisgarh\n",
       "7     Dadara & Nagar Havelli\n",
       "8                Daman & Diu\n",
       "9                        Goa\n",
       "10                   Gujarat\n",
       "11                   Haryana\n",
       "12          Himachal Pradesh\n",
       "13           Jammu & Kashmir\n",
       "14                 Jharkhand\n",
       "15                 Karnataka\n",
       "16                    Kerala\n",
       "17               Lakshadweep\n",
       "18            Madhya Pradesh\n",
       "19               Maharashtra\n",
       "20                   Manipur\n",
       "21                 Meghalaya\n",
       "22                   Mizoram\n",
       "23              NCT of Delhi\n",
       "24                  Nagaland\n",
       "25                    Odisha\n",
       "26                Puducherry\n",
       "27                    Punjab\n",
       "28                 Rajasthan\n",
       "29                    Sikkim\n",
       "30                Tamil Nadu\n",
       "31                 Telangana\n",
       "32                   Tripura\n",
       "33             Uttar Pradesh\n",
       "34               Uttarakhand\n",
       "35               West Bengal"
      ]
     },
     "execution_count": 57,
     "metadata": {},
     "output_type": "execute_result"
    }
   ],
   "source": [
    "possible_correspondents = pd.DataFrame({\n",
    "    'PossibleCorrespondents': map_territories.sort_values()\n",
    "})\n",
    "\n",
    "possible_correspondents.reset_index(drop = True, inplace = True)\n",
    "possible_correspondents"
   ]
  },
  {
   "cell_type": "code",
   "execution_count": 58,
   "id": "blessed-stephen",
   "metadata": {},
   "outputs": [
    {
     "data": {
      "text/html": [
       "<div>\n",
       "<style scoped>\n",
       "    .dataframe tbody tr th:only-of-type {\n",
       "        vertical-align: middle;\n",
       "    }\n",
       "\n",
       "    .dataframe tbody tr th {\n",
       "        vertical-align: top;\n",
       "    }\n",
       "\n",
       "    .dataframe thead th {\n",
       "        text-align: right;\n",
       "    }\n",
       "</style>\n",
       "<table border=\"1\" class=\"dataframe\">\n",
       "  <thead>\n",
       "    <tr style=\"text-align: right;\">\n",
       "      <th></th>\n",
       "      <th>Correspondent</th>\n",
       "    </tr>\n",
       "    <tr>\n",
       "      <th>Territory</th>\n",
       "      <th></th>\n",
       "    </tr>\n",
       "  </thead>\n",
       "  <tbody>\n",
       "    <tr>\n",
       "      <th>Delhi</th>\n",
       "      <td>NCT of Delhi</td>\n",
       "    </tr>\n",
       "    <tr>\n",
       "      <th>Telengana</th>\n",
       "      <td>Telangana</td>\n",
       "    </tr>\n",
       "    <tr>\n",
       "      <th>Jammu and Kashmir</th>\n",
       "      <td>Jammu &amp; Kashmir</td>\n",
       "    </tr>\n",
       "    <tr>\n",
       "      <th>Ladakh</th>\n",
       "      <td>None</td>\n",
       "    </tr>\n",
       "    <tr>\n",
       "      <th>Arunachal Pradesh</th>\n",
       "      <td>Arunanchal Pradesh</td>\n",
       "    </tr>\n",
       "    <tr>\n",
       "      <th>Dadra and Nagar Haveli and Daman and Diu</th>\n",
       "      <td>Dadara &amp; Nagar Havelli</td>\n",
       "    </tr>\n",
       "    <tr>\n",
       "      <th>Andaman and Nicobar Islands</th>\n",
       "      <td>Andaman &amp; Nicobar Island</td>\n",
       "    </tr>\n",
       "  </tbody>\n",
       "</table>\n",
       "</div>"
      ],
      "text/plain": [
       "                                                     Correspondent\n",
       "Territory                                                         \n",
       "Delhi                                                 NCT of Delhi\n",
       "Telengana                                                Telangana\n",
       "Jammu and Kashmir                                  Jammu & Kashmir\n",
       "Ladakh                                                        None\n",
       "Arunachal Pradesh                               Arunanchal Pradesh\n",
       "Dadra and Nagar Haveli and Daman and Diu    Dadara & Nagar Havelli\n",
       "Andaman and Nicobar Islands               Andaman & Nicobar Island"
      ]
     },
     "execution_count": 58,
     "metadata": {},
     "output_type": "execute_result"
    }
   ],
   "source": [
    "territories_without_correspondent_df.loc['Delhi']['Correspondent'] = 'NCT of Delhi'\n",
    "territories_without_correspondent_df.loc['Telengana']['Correspondent'] = 'Telangana'\n",
    "territories_without_correspondent_df.loc['Jammu and Kashmir']['Correspondent'] = 'Jammu & Kashmir'\n",
    "territories_without_correspondent_df.loc['Ladakh']['Correspondent'] = None\n",
    "territories_without_correspondent_df.loc['Arunachal Pradesh']['Correspondent'] = 'Arunanchal Pradesh'\n",
    "territories_without_correspondent_df.loc['Dadra and Nagar Haveli and Daman and Diu']['Correspondent'] = 'Dadara & Nagar Havelli'\n",
    "territories_without_correspondent_df.loc['Andaman and Nicobar Islands']['Correspondent'] = 'Andaman & Nicobar Island'\n",
    "\n",
    "territories_without_correspondent_df"
   ]
  },
  {
   "cell_type": "code",
   "execution_count": 59,
   "id": "southwest-contributor",
   "metadata": {},
   "outputs": [
    {
     "data": {
      "text/plain": [
       "0"
      ]
     },
     "execution_count": 59,
     "metadata": {},
     "output_type": "execute_result"
    }
   ],
   "source": [
    "days = days.query('Territory != \"Ladakh\"') \n",
    "(days['Territory'] == 'Ladakh').sum()"
   ]
  },
  {
   "cell_type": "code",
   "execution_count": 60,
   "id": "amateur-hopkins",
   "metadata": {},
   "outputs": [
    {
     "data": {
      "text/html": [
       "<div>\n",
       "<style scoped>\n",
       "    .dataframe tbody tr th:only-of-type {\n",
       "        vertical-align: middle;\n",
       "    }\n",
       "\n",
       "    .dataframe tbody tr th {\n",
       "        vertical-align: top;\n",
       "    }\n",
       "\n",
       "    .dataframe thead th {\n",
       "        text-align: right;\n",
       "    }\n",
       "</style>\n",
       "<table border=\"1\" class=\"dataframe\">\n",
       "  <thead>\n",
       "    <tr style=\"text-align: right;\">\n",
       "      <th></th>\n",
       "      <th>Correspondent</th>\n",
       "    </tr>\n",
       "  </thead>\n",
       "  <tbody>\n",
       "    <tr>\n",
       "      <th>Delhi</th>\n",
       "      <td>NCT of Delhi</td>\n",
       "    </tr>\n",
       "    <tr>\n",
       "      <th>Maharashtra</th>\n",
       "      <td>Maharashtra</td>\n",
       "    </tr>\n",
       "    <tr>\n",
       "      <th>Kerala</th>\n",
       "      <td>Kerala</td>\n",
       "    </tr>\n",
       "    <tr>\n",
       "      <th>Karnataka</th>\n",
       "      <td>Karnataka</td>\n",
       "    </tr>\n",
       "    <tr>\n",
       "      <th>Gujarat</th>\n",
       "      <td>Gujarat</td>\n",
       "    </tr>\n",
       "  </tbody>\n",
       "</table>\n",
       "</div>"
      ],
      "text/plain": [
       "            Correspondent\n",
       "Delhi        NCT of Delhi\n",
       "Maharashtra   Maharashtra\n",
       "Kerala             Kerala\n",
       "Karnataka       Karnataka\n",
       "Gujarat           Gujarat"
      ]
     },
     "execution_count": 60,
     "metadata": {},
     "output_type": "execute_result"
    }
   ],
   "source": [
    "rename_territories_names = {}\n",
    "\n",
    "for territory in days['Territory'].drop_duplicates():\n",
    "    rename_territories_names[territory] = territory\n",
    "\n",
    "for index, row in territories_without_correspondent_df.iterrows():\n",
    "    rename_territories_names[index] = row['Correspondent']\n",
    "    \n",
    "pd.DataFrame([rename_territories_names]).T.rename(columns = {0: 'Correspondent'}).head()"
   ]
  },
  {
   "cell_type": "code",
   "execution_count": 61,
   "id": "explicit-description",
   "metadata": {},
   "outputs": [
    {
     "data": {
      "text/html": [
       "<div>\n",
       "<style scoped>\n",
       "    .dataframe tbody tr th:only-of-type {\n",
       "        vertical-align: middle;\n",
       "    }\n",
       "\n",
       "    .dataframe tbody tr th {\n",
       "        vertical-align: top;\n",
       "    }\n",
       "\n",
       "    .dataframe thead th {\n",
       "        text-align: right;\n",
       "    }\n",
       "</style>\n",
       "<table border=\"1\" class=\"dataframe\">\n",
       "  <thead>\n",
       "    <tr style=\"text-align: right;\">\n",
       "      <th></th>\n",
       "      <th>Date</th>\n",
       "      <th>Territory</th>\n",
       "      <th>Cured</th>\n",
       "      <th>Deaths</th>\n",
       "      <th>Confirmed</th>\n",
       "    </tr>\n",
       "  </thead>\n",
       "  <tbody>\n",
       "    <tr>\n",
       "      <th>0</th>\n",
       "      <td>2020-03-14</td>\n",
       "      <td>NCT of Delhi</td>\n",
       "      <td>1</td>\n",
       "      <td>1</td>\n",
       "      <td>1</td>\n",
       "    </tr>\n",
       "    <tr>\n",
       "      <th>1</th>\n",
       "      <td>2020-03-25</td>\n",
       "      <td>Maharashtra</td>\n",
       "      <td>1</td>\n",
       "      <td>1</td>\n",
       "      <td>39</td>\n",
       "    </tr>\n",
       "    <tr>\n",
       "      <th>2</th>\n",
       "      <td>2020-03-27</td>\n",
       "      <td>Maharashtra</td>\n",
       "      <td>14</td>\n",
       "      <td>1</td>\n",
       "      <td>6</td>\n",
       "    </tr>\n",
       "    <tr>\n",
       "      <th>3</th>\n",
       "      <td>2020-03-28</td>\n",
       "      <td>Maharashtra</td>\n",
       "      <td>10</td>\n",
       "      <td>1</td>\n",
       "      <td>50</td>\n",
       "    </tr>\n",
       "    <tr>\n",
       "      <th>4</th>\n",
       "      <td>2020-03-29</td>\n",
       "      <td>Kerala</td>\n",
       "      <td>4</td>\n",
       "      <td>1</td>\n",
       "      <td>6</td>\n",
       "    </tr>\n",
       "  </tbody>\n",
       "</table>\n",
       "</div>"
      ],
      "text/plain": [
       "        Date     Territory  Cured  Deaths  Confirmed\n",
       "0 2020-03-14  NCT of Delhi      1       1          1\n",
       "1 2020-03-25   Maharashtra      1       1         39\n",
       "2 2020-03-27   Maharashtra     14       1          6\n",
       "3 2020-03-28   Maharashtra     10       1         50\n",
       "4 2020-03-29        Kerala      4       1          6"
      ]
     },
     "execution_count": 61,
     "metadata": {},
     "output_type": "execute_result"
    }
   ],
   "source": [
    "days['Territory'] = days['Territory'].map(rename_territories_names)\n",
    "days.head()"
   ]
  },
  {
   "cell_type": "code",
   "execution_count": 62,
   "id": "grand-leisure",
   "metadata": {},
   "outputs": [
    {
     "data": {
      "text/plain": [
       "0"
      ]
     },
     "execution_count": 62,
     "metadata": {},
     "output_type": "execute_result"
    }
   ],
   "source": [
    "territories_without_correspondent = []\n",
    "\n",
    "for territory in days['Territory'].drop_duplicates():\n",
    "    if territory not in list(map_territories):\n",
    "        territories_without_correspondent.append(territory)\n",
    "    \n",
    "len(territories_without_correspondent)"
   ]
  },
  {
   "cell_type": "code",
   "execution_count": 63,
   "id": "starting-stamp",
   "metadata": {},
   "outputs": [
    {
     "data": {
      "text/plain": [
       "0                   NCT of Delhi\n",
       "1                    Maharashtra\n",
       "4                         Kerala\n",
       "5                      Karnataka\n",
       "6                        Gujarat\n",
       "9                    West Bengal\n",
       "17                       Haryana\n",
       "20                 Uttar Pradesh\n",
       "21                    Tamil Nadu\n",
       "22                        Punjab\n",
       "26                Andhra Pradesh\n",
       "40                     Telangana\n",
       "52                Madhya Pradesh\n",
       "76                     Rajasthan\n",
       "85               Jammu & Kashmir\n",
       "183                        Bihar\n",
       "211                   Chandigarh\n",
       "235                       Odisha\n",
       "301                   Puducherry\n",
       "427                    Jharkhand\n",
       "434                  Uttarakhand\n",
       "449             Himachal Pradesh\n",
       "510                 Chhattisgarh\n",
       "702                        Assam\n",
       "900                          Goa\n",
       "1153          Arunanchal Pradesh\n",
       "1197                   Meghalaya\n",
       "1241                     Tripura\n",
       "1284      Dadara & Nagar Havelli\n",
       "1541                    Nagaland\n",
       "1614                      Sikkim\n",
       "1619    Andaman & Nicobar Island\n",
       "1686                     Manipur\n",
       "4188                     Mizoram\n",
       "7077                 Lakshadweep\n",
       "Name: Territory, dtype: object"
      ]
     },
     "execution_count": 63,
     "metadata": {},
     "output_type": "execute_result"
    }
   ],
   "source": [
    "days_geometries = days.merge(\n",
    "    india_map,\n",
    "    on = 'Territory',\n",
    "    how = 'left'\n",
    ")\n",
    "\n",
    "days_geometries.Territory.drop_duplicates()"
   ]
  },
  {
   "cell_type": "code",
   "execution_count": 64,
   "id": "surprised-picture",
   "metadata": {},
   "outputs": [
    {
     "data": {
      "text/plain": [
       "Date         0\n",
       "Territory    0\n",
       "Cured        0\n",
       "Deaths       0\n",
       "Confirmed    0\n",
       "geometry     0\n",
       "dtype: int64"
      ]
     },
     "execution_count": 64,
     "metadata": {},
     "output_type": "execute_result"
    }
   ],
   "source": [
    "days_geometries.isna().sum()"
   ]
  },
  {
   "cell_type": "code",
   "execution_count": 65,
   "id": "beautiful-curve",
   "metadata": {},
   "outputs": [
    {
     "data": {
      "text/html": [
       "<div>\n",
       "<style scoped>\n",
       "    .dataframe tbody tr th:only-of-type {\n",
       "        vertical-align: middle;\n",
       "    }\n",
       "\n",
       "    .dataframe tbody tr th {\n",
       "        vertical-align: top;\n",
       "    }\n",
       "\n",
       "    .dataframe thead th {\n",
       "        text-align: right;\n",
       "    }\n",
       "</style>\n",
       "<table border=\"1\" class=\"dataframe\">\n",
       "  <thead>\n",
       "    <tr style=\"text-align: right;\">\n",
       "      <th></th>\n",
       "      <th>Date</th>\n",
       "      <th>Territory</th>\n",
       "      <th>Cured</th>\n",
       "      <th>Deaths</th>\n",
       "      <th>Confirmed</th>\n",
       "      <th>geometry</th>\n",
       "    </tr>\n",
       "  </thead>\n",
       "  <tbody>\n",
       "    <tr>\n",
       "      <th>0</th>\n",
       "      <td>2020-03-14</td>\n",
       "      <td>NCT of Delhi</td>\n",
       "      <td>1</td>\n",
       "      <td>1</td>\n",
       "      <td>1</td>\n",
       "      <td>POLYGON ((77.09361 28.86940, 77.10973 28.86722...</td>\n",
       "    </tr>\n",
       "    <tr>\n",
       "      <th>1</th>\n",
       "      <td>2020-03-25</td>\n",
       "      <td>Maharashtra</td>\n",
       "      <td>1</td>\n",
       "      <td>1</td>\n",
       "      <td>39</td>\n",
       "      <td>MULTIPOLYGON (((73.46270 16.03710, 73.46178 16...</td>\n",
       "    </tr>\n",
       "    <tr>\n",
       "      <th>2</th>\n",
       "      <td>2020-03-27</td>\n",
       "      <td>Maharashtra</td>\n",
       "      <td>14</td>\n",
       "      <td>1</td>\n",
       "      <td>6</td>\n",
       "      <td>MULTIPOLYGON (((73.46270 16.03710, 73.46178 16...</td>\n",
       "    </tr>\n",
       "    <tr>\n",
       "      <th>3</th>\n",
       "      <td>2020-03-28</td>\n",
       "      <td>Maharashtra</td>\n",
       "      <td>10</td>\n",
       "      <td>1</td>\n",
       "      <td>50</td>\n",
       "      <td>MULTIPOLYGON (((73.46270 16.03710, 73.46178 16...</td>\n",
       "    </tr>\n",
       "    <tr>\n",
       "      <th>4</th>\n",
       "      <td>2020-03-29</td>\n",
       "      <td>Kerala</td>\n",
       "      <td>4</td>\n",
       "      <td>1</td>\n",
       "      <td>6</td>\n",
       "      <td>POLYGON ((74.99575 12.79227, 75.00006 12.78777...</td>\n",
       "    </tr>\n",
       "  </tbody>\n",
       "</table>\n",
       "</div>"
      ],
      "text/plain": [
       "        Date     Territory  Cured  Deaths  Confirmed  \\\n",
       "0 2020-03-14  NCT of Delhi      1       1          1   \n",
       "1 2020-03-25   Maharashtra      1       1         39   \n",
       "2 2020-03-27   Maharashtra     14       1          6   \n",
       "3 2020-03-28   Maharashtra     10       1         50   \n",
       "4 2020-03-29        Kerala      4       1          6   \n",
       "\n",
       "                                            geometry  \n",
       "0  POLYGON ((77.09361 28.86940, 77.10973 28.86722...  \n",
       "1  MULTIPOLYGON (((73.46270 16.03710, 73.46178 16...  \n",
       "2  MULTIPOLYGON (((73.46270 16.03710, 73.46178 16...  \n",
       "3  MULTIPOLYGON (((73.46270 16.03710, 73.46178 16...  \n",
       "4  POLYGON ((74.99575 12.79227, 75.00006 12.78777...  "
      ]
     },
     "execution_count": 65,
     "metadata": {},
     "output_type": "execute_result"
    }
   ],
   "source": [
    "days_geometries.head()"
   ]
  },
  {
   "cell_type": "code",
   "execution_count": 66,
   "id": "alert-point",
   "metadata": {},
   "outputs": [
    {
     "data": {
      "text/html": [
       "<div>\n",
       "<style scoped>\n",
       "    .dataframe tbody tr th:only-of-type {\n",
       "        vertical-align: middle;\n",
       "    }\n",
       "\n",
       "    .dataframe tbody tr th {\n",
       "        vertical-align: top;\n",
       "    }\n",
       "\n",
       "    .dataframe thead th {\n",
       "        text-align: right;\n",
       "    }\n",
       "</style>\n",
       "<table border=\"1\" class=\"dataframe\">\n",
       "  <thead>\n",
       "    <tr style=\"text-align: right;\">\n",
       "      <th></th>\n",
       "      <th>Date</th>\n",
       "      <th>Territory</th>\n",
       "      <th>Cured</th>\n",
       "      <th>Deaths</th>\n",
       "      <th>Confirmed</th>\n",
       "      <th>TerritoryGeometry</th>\n",
       "    </tr>\n",
       "  </thead>\n",
       "  <tbody>\n",
       "    <tr>\n",
       "      <th>0</th>\n",
       "      <td>2020-03-14</td>\n",
       "      <td>NCT of Delhi</td>\n",
       "      <td>1</td>\n",
       "      <td>1</td>\n",
       "      <td>1</td>\n",
       "      <td>POLYGON ((77.09361 28.86940, 77.10973 28.86722...</td>\n",
       "    </tr>\n",
       "    <tr>\n",
       "      <th>1</th>\n",
       "      <td>2020-03-25</td>\n",
       "      <td>Maharashtra</td>\n",
       "      <td>1</td>\n",
       "      <td>1</td>\n",
       "      <td>39</td>\n",
       "      <td>MULTIPOLYGON (((73.46270 16.03710, 73.46178 16...</td>\n",
       "    </tr>\n",
       "    <tr>\n",
       "      <th>2</th>\n",
       "      <td>2020-03-27</td>\n",
       "      <td>Maharashtra</td>\n",
       "      <td>14</td>\n",
       "      <td>1</td>\n",
       "      <td>6</td>\n",
       "      <td>MULTIPOLYGON (((73.46270 16.03710, 73.46178 16...</td>\n",
       "    </tr>\n",
       "    <tr>\n",
       "      <th>3</th>\n",
       "      <td>2020-03-28</td>\n",
       "      <td>Maharashtra</td>\n",
       "      <td>10</td>\n",
       "      <td>1</td>\n",
       "      <td>50</td>\n",
       "      <td>MULTIPOLYGON (((73.46270 16.03710, 73.46178 16...</td>\n",
       "    </tr>\n",
       "    <tr>\n",
       "      <th>4</th>\n",
       "      <td>2020-03-29</td>\n",
       "      <td>Kerala</td>\n",
       "      <td>4</td>\n",
       "      <td>1</td>\n",
       "      <td>6</td>\n",
       "      <td>POLYGON ((74.99575 12.79227, 75.00006 12.78777...</td>\n",
       "    </tr>\n",
       "  </tbody>\n",
       "</table>\n",
       "</div>"
      ],
      "text/plain": [
       "        Date     Territory  Cured  Deaths  Confirmed  \\\n",
       "0 2020-03-14  NCT of Delhi      1       1          1   \n",
       "1 2020-03-25   Maharashtra      1       1         39   \n",
       "2 2020-03-27   Maharashtra     14       1          6   \n",
       "3 2020-03-28   Maharashtra     10       1         50   \n",
       "4 2020-03-29        Kerala      4       1          6   \n",
       "\n",
       "                                   TerritoryGeometry  \n",
       "0  POLYGON ((77.09361 28.86940, 77.10973 28.86722...  \n",
       "1  MULTIPOLYGON (((73.46270 16.03710, 73.46178 16...  \n",
       "2  MULTIPOLYGON (((73.46270 16.03710, 73.46178 16...  \n",
       "3  MULTIPOLYGON (((73.46270 16.03710, 73.46178 16...  \n",
       "4  POLYGON ((74.99575 12.79227, 75.00006 12.78777...  "
      ]
     },
     "execution_count": 66,
     "metadata": {},
     "output_type": "execute_result"
    }
   ],
   "source": [
    "days_geometries.rename(columns = {'geometry': 'TerritoryGeometry'}, inplace = True)\n",
    "days_geometries.head()"
   ]
  },
  {
   "cell_type": "markdown",
   "id": "august-netherlands",
   "metadata": {},
   "source": [
    "Salvando os dados agora com o nome dos Territórios alterados"
   ]
  },
  {
   "cell_type": "code",
   "execution_count": 67,
   "id": "southeast-audio",
   "metadata": {},
   "outputs": [],
   "source": [
    "to_save_days = days_geometries.copy()\n",
    "to_save_days['Date'] = to_save_days['Date'].astype(str)\n",
    "to_save_days.drop(columns = ['TerritoryGeometry'], inplace = True)\n",
    "to_save_days.to_csv(PRINCIPAL_PATH + 'covid_india/renamed_territories.csv', index = False)"
   ]
  },
  {
   "cell_type": "markdown",
   "id": "natural-ecuador",
   "metadata": {},
   "source": [
    "## Gerando pontos aleatórios que representarão a contaminação"
   ]
  },
  {
   "cell_type": "code",
   "execution_count": 68,
   "id": "mighty-microphone",
   "metadata": {},
   "outputs": [
    {
     "data": {
      "text/plain": [
       "Territory\n",
       "Andaman & Nicobar Island    MULTIPOLYGON (((93.71976 7.20707, 93.71909 7.2...\n",
       "Arunanchal Pradesh          POLYGON ((96.16261 29.38078, 96.16860 29.37432...\n",
       "Assam                       MULTIPOLYGON (((89.74323 26.30362, 89.74290 26...\n",
       "Bihar                       MULTIPOLYGON (((84.50720 24.26323, 84.50355 24...\n",
       "Chandigarh                  POLYGON ((76.84147 30.75996, 76.83599 30.73623...\n",
       "Name: geometry, dtype: geometry"
      ]
     },
     "execution_count": 68,
     "metadata": {},
     "output_type": "execute_result"
    }
   ],
   "source": [
    "india_territories = india_map.copy()\n",
    "india_territories.index = india_map['Territory']\n",
    "india_territories.drop(columns = 'Territory', inplace = True)\n",
    "india_territories = india_territories['geometry']\n",
    "india_territories.head()"
   ]
  },
  {
   "cell_type": "code",
   "execution_count": 69,
   "id": "beneficial-paragraph",
   "metadata": {},
   "outputs": [
    {
     "data": {
      "text/html": [
       "<div>\n",
       "<style scoped>\n",
       "    .dataframe tbody tr th:only-of-type {\n",
       "        vertical-align: middle;\n",
       "    }\n",
       "\n",
       "    .dataframe tbody tr th {\n",
       "        vertical-align: top;\n",
       "    }\n",
       "\n",
       "    .dataframe thead th {\n",
       "        text-align: right;\n",
       "    }\n",
       "</style>\n",
       "<table border=\"1\" class=\"dataframe\">\n",
       "  <thead>\n",
       "    <tr style=\"text-align: right;\">\n",
       "      <th></th>\n",
       "      <th></th>\n",
       "      <th>Cured</th>\n",
       "      <th>Deaths</th>\n",
       "      <th>Confirmed</th>\n",
       "      <th>geometry</th>\n",
       "    </tr>\n",
       "    <tr>\n",
       "      <th>Territory</th>\n",
       "      <th>Date</th>\n",
       "      <th></th>\n",
       "      <th></th>\n",
       "      <th></th>\n",
       "      <th></th>\n",
       "    </tr>\n",
       "  </thead>\n",
       "  <tbody>\n",
       "    <tr>\n",
       "      <th rowspan=\"5\" valign=\"top\">Andaman &amp; Nicobar Island</th>\n",
       "      <th>2020-07-28</th>\n",
       "      <td>10</td>\n",
       "      <td>1</td>\n",
       "      <td>14</td>\n",
       "      <td>(POLYGON ((93.71975948121514 7.207067636262479...</td>\n",
       "    </tr>\n",
       "    <tr>\n",
       "      <th>2020-07-30</th>\n",
       "      <td>5</td>\n",
       "      <td>1</td>\n",
       "      <td>65</td>\n",
       "      <td>(POLYGON ((93.71975948121514 7.207067636262479...</td>\n",
       "    </tr>\n",
       "    <tr>\n",
       "      <th>2020-08-01</th>\n",
       "      <td>13</td>\n",
       "      <td>1</td>\n",
       "      <td>77</td>\n",
       "      <td>(POLYGON ((93.71975948121514 7.207067636262479...</td>\n",
       "    </tr>\n",
       "    <tr>\n",
       "      <th>2020-08-02</th>\n",
       "      <td>12</td>\n",
       "      <td>2</td>\n",
       "      <td>88</td>\n",
       "      <td>(POLYGON ((93.71975948121514 7.207067636262479...</td>\n",
       "    </tr>\n",
       "    <tr>\n",
       "      <th>2020-08-03</th>\n",
       "      <td>16</td>\n",
       "      <td>1</td>\n",
       "      <td>98</td>\n",
       "      <td>(POLYGON ((93.71975948121514 7.207067636262479...</td>\n",
       "    </tr>\n",
       "  </tbody>\n",
       "</table>\n",
       "</div>"
      ],
      "text/plain": [
       "                                     Cured  Deaths  Confirmed  \\\n",
       "Territory                Date                                   \n",
       "Andaman & Nicobar Island 2020-07-28     10       1         14   \n",
       "                         2020-07-30      5       1         65   \n",
       "                         2020-08-01     13       1         77   \n",
       "                         2020-08-02     12       2         88   \n",
       "                         2020-08-03     16       1         98   \n",
       "\n",
       "                                                                              geometry  \n",
       "Territory                Date                                                           \n",
       "Andaman & Nicobar Island 2020-07-28  (POLYGON ((93.71975948121514 7.207067636262479...  \n",
       "                         2020-07-30  (POLYGON ((93.71975948121514 7.207067636262479...  \n",
       "                         2020-08-01  (POLYGON ((93.71975948121514 7.207067636262479...  \n",
       "                         2020-08-02  (POLYGON ((93.71975948121514 7.207067636262479...  \n",
       "                         2020-08-03  (POLYGON ((93.71975948121514 7.207067636262479...  "
      ]
     },
     "execution_count": 69,
     "metadata": {},
     "output_type": "execute_result"
    }
   ],
   "source": [
    "territories = days_geometries.groupby(['Territory', 'Date']).sum()\n",
    "\n",
    "geometry = [india_territories.loc[index[0]] for index, _ in territories.iterrows()]\n",
    "territories['geometry'] = geometry\n",
    "territories.head()"
   ]
  },
  {
   "cell_type": "code",
   "execution_count": 70,
   "id": "centered-neighborhood",
   "metadata": {},
   "outputs": [],
   "source": [
    "from shapely.geometry import Point\n",
    "\n",
    "def random_point_in_territory(shp):\n",
    "    within = False\n",
    "    while not within:\n",
    "        x = np.random.uniform(shp.bounds[0], shp.bounds[2])\n",
    "        y = np.random.uniform(shp.bounds[1], shp.bounds[3])\n",
    "        within = shp.contains(Point(x, y))\n",
    "    return Point(x,y)"
   ]
  },
  {
   "cell_type": "markdown",
   "id": "white-individual",
   "metadata": {},
   "source": [
    "<h1 style=\"color: red;\">ATENÇÃO!</h1>\n",
    "<h2>As linhas de código a seguir estão comentadas porque demoram muito para serem executadas, não se preocupe pois o resultado delas é importado logo depois</h2>"
   ]
  },
  {
   "cell_type": "code",
   "execution_count": null,
   "id": "infectious-dancing",
   "metadata": {},
   "outputs": [],
   "source": [
    "# from tqdm import tqdm\n",
    "\n",
    "# points_covid_animation = {\n",
    "#     'Cured': [], 'Deaths': [], 'Confirmed': []\n",
    "# }\n",
    "\n",
    "# def reset_quantity_variables():\n",
    "#     return {\n",
    "#         'Cured': 0, 'Deaths': 0, 'Confirmed': 0\n",
    "#     }\n",
    "\n",
    "# quantity_variables = reset_quantity_variables()\n",
    "\n",
    "# current_territory = territories.index[0][0]\n",
    "\n",
    "\n",
    "# for index, row in tqdm(territories.iterrows()):\n",
    "#     territory = index[0]\n",
    "#     if territory != current_territory:\n",
    "#         quantity_variables = reset_quantity_variables()\n",
    "#     current_territory = territory\n",
    "#     date = index[1]\n",
    "#     for var in quantity_variables.keys():\n",
    "#         value = quantity_variables[var]\n",
    "#         if value > 100:\n",
    "#             quantity_variables[var] = 0\n",
    "#             points_covid_animation[var].append({\n",
    "#                 'Territory': territory,\n",
    "#                 'Date': date,\n",
    "#                 'geometry': random_point_in_territory(row['geometry'])\n",
    "#             })\n",
    "#         quantity_variables[var] += row[var]\n",
    "        \n",
    "    \n",
    "# points_covid_animation"
   ]
  },
  {
   "cell_type": "markdown",
   "id": "eastern-cooperative",
   "metadata": {},
   "source": [
    "## Salvando os pontos gerados"
   ]
  },
  {
   "cell_type": "code",
   "execution_count": null,
   "id": "ecological-sunglasses",
   "metadata": {},
   "outputs": [],
   "source": [
    "# for k in points_covid_animation.keys():\n",
    "#     points_covid_animation[k] = gpd.GeoDataFrame(points_covid_animation[k])\n",
    "    \n",
    "# points_covid_animation['Cured'].head()"
   ]
  },
  {
   "cell_type": "code",
   "execution_count": null,
   "id": "alone-arrow",
   "metadata": {},
   "outputs": [],
   "source": [
    "# for k in points_covid_animation.keys():\n",
    "#     points_covid_animation[k].to_file(PRINCIPAL_PATH + 'animations_contamination/' + k + '.shp')\n",
    "#     print(f'Arquivo {k}.shp salvo com sucesso!')"
   ]
  },
  {
   "cell_type": "code",
   "execution_count": null,
   "id": "developing-identifier",
   "metadata": {},
   "outputs": [],
   "source": [
    "quantity_variables = ['Cured', 'Deaths', 'Confirmed']\n",
    "\n",
    "points_covid_animation = {}\n",
    "\n",
    "for var in quantity_variables:\n",
    "     points_covid_animation[var] = gpd.read_file(\n",
    "         PRINCIPAL_PATH + 'animations_contamination/' + var + '.shp'\n",
    "     )\n",
    "        \n",
    "points_covid_animation"
   ]
  }
 ],
 "metadata": {
  "kernelspec": {
   "display_name": "Python 3",
   "language": "python",
   "name": "python3"
  },
  "language_info": {
   "codemirror_mode": {
    "name": "ipython",
    "version": 3
   },
   "file_extension": ".py",
   "mimetype": "text/x-python",
   "name": "python",
   "nbconvert_exporter": "python",
   "pygments_lexer": "ipython3",
   "version": "3.8.5"
  }
 },
 "nbformat": 4,
 "nbformat_minor": 5
}
